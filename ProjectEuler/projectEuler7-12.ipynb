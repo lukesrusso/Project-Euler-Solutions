{
 "cells": [
  {
   "cell_type": "code",
   "execution_count": 25,
   "id": "8df796d1",
   "metadata": {},
   "outputs": [
    {
     "name": "stdout",
     "output_type": "stream",
     "text": [
      "104743\n"
     ]
    }
   ],
   "source": [
    "#Problem 7\n",
    "\n",
    "'''\n",
    "By listing the first six prime numbers: 2, 3, 5, 7, 11, and 13, we can see that the 6th prime is 13.\n",
    "\n",
    "What is the 10 001st prime number?\n",
    "'''\n",
    "\n",
    "\n",
    "def nth_prime(n):\n",
    "    counter = 2 \n",
    "    for i in range(3, n**2, 2):\n",
    "        k = 1\n",
    "        while k*k < i: \n",
    "            k += 2 \n",
    "            if i % k == 0: # if divisible by an odd number, break\n",
    "               break\n",
    "        else: \n",
    "            counter += 1 #prime found!\n",
    "        if counter == n:\n",
    "            return i #return prime!\n",
    "\n",
    "print(nth_prime(10001))"
   ]
  },
  {
   "cell_type": "code",
   "execution_count": 24,
   "id": "1e4d4832",
   "metadata": {},
   "outputs": [
    {
     "name": "stdout",
     "output_type": "stream",
     "text": [
      "23514624000\n"
     ]
    }
   ],
   "source": [
    "#Problem 8\n",
    "\n",
    "'''\n",
    "The four adjacent digits in the 1000-digit number that have the greatest product are 9 × 9 × 8 × 9 = 5832.\n",
    "\n",
    "73167176531330624919225119674426574742355349194934\n",
    "96983520312774506326239578318016984801869478851843\n",
    "85861560789112949495459501737958331952853208805511\n",
    "12540698747158523863050715693290963295227443043557\n",
    "66896648950445244523161731856403098711121722383113\n",
    "62229893423380308135336276614282806444486645238749\n",
    "30358907296290491560440772390713810515859307960866\n",
    "70172427121883998797908792274921901699720888093776\n",
    "65727333001053367881220235421809751254540594752243\n",
    "52584907711670556013604839586446706324415722155397\n",
    "53697817977846174064955149290862569321978468622482\n",
    "83972241375657056057490261407972968652414535100474\n",
    "82166370484403199890008895243450658541227588666881\n",
    "16427171479924442928230863465674813919123162824586\n",
    "17866458359124566529476545682848912883142607690042\n",
    "24219022671055626321111109370544217506941658960408\n",
    "07198403850962455444362981230987879927244284909188\n",
    "84580156166097919133875499200524063689912560717606\n",
    "05886116467109405077541002256983155200055935729725\n",
    "71636269561882670428252483600823257530420752963450\n",
    "\n",
    "Find the thirteen adjacent digits in the 1000-digit number that have the greatest product. What is the value of this product?\n",
    "'''\n",
    "\n",
    "thousand_digit = \"7316717653133062491922511967442657474235534919493496983520312774506326239578318016984801869478851843858615607891129494954595017379583319528532088055111254069874715852386305071569329096329522744304355766896648950445244523161731856403098711121722383113622298934233803081353362766142828064444866452387493035890729629049156044077239071381051585930796086670172427121883998797908792274921901699720888093776657273330010533678812202354218097512545405947522435258490771167055601360483958644670632441572215539753697817977846174064955149290862569321978468622482839722413756570560574902614079729686524145351004748216637048440319989000889524345065854122758866688116427171479924442928230863465674813919123162824586178664583591245665294765456828489128831426076900422421902267105562632111110937054421750694165896040807198403850962455444362981230987879927244284909188845801561660979191338754992005240636899125607176060588611646710940507754100225698315520005593572972571636269561882670428252483600823257530420752963450\"\n",
    "\n",
    "product = 1\n",
    "\n",
    "greatest_product = 1\n",
    "\n",
    "for x in range(len(thousand_digit)-13):\n",
    "    for i in range(13):\n",
    "        product *= int(thousand_digit[x+i])\n",
    "    if product > greatest_product:\n",
    "        greatest_product = product\n",
    "        product = 1\n",
    "    else:\n",
    "        product = 1\n",
    "\n",
    "\n",
    "print(greatest_product)\n",
    "        \n",
    "    \n",
    "\n"
   ]
  },
  {
   "cell_type": "code",
   "execution_count": 23,
   "id": "9e9efbb6",
   "metadata": {},
   "outputs": [
    {
     "name": "stdout",
     "output_type": "stream",
     "text": [
      "a = 200\n",
      "b = 375\n",
      "c = 425.0\n",
      "The product of the pythagorean triple whose sum equals 1000 is 31875000.0\n"
     ]
    }
   ],
   "source": [
    "#Problem 9\n",
    "'''\n",
    "A Pythagorean triplet is a set of three natural numbers, a < b < c, for which,\n",
    "\n",
    "a^2 + b^2 = c^2\n",
    "For example, 3^2 + 4^2 = 9 + 16 = 25 = 5^2.\n",
    "\n",
    "#So, the Pythagorean Triplet would be 3, 4, 5\n",
    "\n",
    "There exists exactly one Pythagorean triplet for which a + b + c = 1000.\n",
    "Find the product abc.\n",
    "'''\n",
    "\n",
    "\n",
    "for a in range(1000):\n",
    "    for b in range(1000):\n",
    "        c = (a**2 + b**2)**(1/2)\n",
    "        if a + b + c == 1000 and a < b < c: #bingo!\n",
    "            print(f'a = {a}')\n",
    "            print(f'b = {b}')\n",
    "            print(f'c = {c}')\n",
    "            print(f'The product of the pythagorean triple whose sum equals 1000 is {a*b*c}')"
   ]
  },
  {
   "cell_type": "code",
   "execution_count": 22,
   "id": "e72c45dd",
   "metadata": {},
   "outputs": [
    {
     "name": "stdout",
     "output_type": "stream",
     "text": [
      "The sum of all the prime numbers below 2 million is 142913828922\n"
     ]
    }
   ],
   "source": [
    "#Problem 10\n",
    "\n",
    "'''\n",
    "The sum of the primes below 10 is 2 + 3 + 5 + 7 = 17.\n",
    "Find the sum of all the primes below two million.\n",
    "'''\n",
    "\n",
    "#Implemetation of the Sieve of Eratosthenes adapted from the following stack overflow post\n",
    "#https://stackoverflow.com/questions/32542052/sum-of-primes-below-2-000-000-in-python/32542524#32542524?newreg=78cfbdc6c3e3420b8c273e7aede44bf7\n",
    "\n",
    "\n",
    "# number to find summation of all primes below number\n",
    "\n",
    "def primes_below(upper_bound):\n",
    "    #set runs at C speed for removal and searching\n",
    "    #initialize a set and exclude even numbers to minimize # of iterations\n",
    "    numbers = set(range(3, upper_bound + 1, 2)) \n",
    "    #initialize another set of numbers, each of which we will eliminate multiples of\n",
    "    for factor in range(3, int(upper_bound ** 0.5) + 1):\n",
    "        #all numbers > sqrt(x) in the range will not have multiples that haven't already been eliminated\n",
    "        if factor not in numbers:\n",
    "        #number must have already been removed because it is not prime\n",
    "            continue\n",
    "        prime_factor = factor\n",
    "        while factor < upper_bound:\n",
    "            factor += prime_factor\n",
    "            if factor in numbers:\n",
    "                # Remove each multiples of the prime factor\n",
    "                numbers.remove(factor)\n",
    "    \n",
    "    numbers.add(2)\n",
    "    return numbers\n",
    "\n",
    "\n",
    "print(f'The sum of all the prime numbers below 2 million is {sum(primes_below(2000000))}')"
   ]
  },
  {
   "cell_type": "code",
   "execution_count": 14,
   "id": "e65707b8",
   "metadata": {},
   "outputs": [
    {
     "data": {
      "text/plain": [
       "51267216"
      ]
     },
     "execution_count": 14,
     "metadata": {},
     "output_type": "execute_result"
    }
   ],
   "source": [
    "\n",
    "#Problem 11\n",
    "\n",
    "'''\n",
    "In the 20×20 grid below, four numbers along a diagonal line have been marked in red.\n",
    "\n",
    "08 02 22 97 38 15 00 40 00 75 04 05 07 78 52 12 50 77 91 08\n",
    "49 49 99 40 17 81 18 57 60 87 17 40 98 43 69 48 04 56 62 00\n",
    "81 49 31 73 55 79 14 29 93 71 40 67 53 88 30 03 49 13 36 65\n",
    "52 70 95 23 04 60 11 42 69 24 68 56 01 32 56 71 37 02 36 91\n",
    "22 31 16 71 51 67 63 89 41 92 36 54 22 40 40 28 66 33 13 80\n",
    "24 47 32 60 99 03 45 02 44 75 33 53 78 36 84 20 35 17 12 50\n",
    "32 98 81 28 64 23 67 10 26 38 40 67 59 54 70 66 18 38 64 70\n",
    "67 26 20 68 02 62 12 20 95 63 94 39 63 08 40 91 66 49 94 21\n",
    "24 55 58 05 66 73 99 26 97 17 78 78 96 83 14 88 34 89 63 72\n",
    "21 36 23 09 75 00 76 44 20 45 35 14 00 61 33 97 34 31 33 95\n",
    "78 17 53 28 22 75 31 67 15 94 03 80 04 62 16 14 09 53 56 92\n",
    "16 39 05 42 96 35 31 47 55 58 88 24 00 17 54 24 36 29 85 57\n",
    "86 56 00 48 35 71 89 07 05 44 44 37 44 60 21 58 51 54 17 58\n",
    "19 80 81 68 05 94 47 69 28 73 92 13 86 52 17 77 04 89 55 40\n",
    "04 52 08 83 97 35 99 16 07 97 57 32 16 26 26 79 33 27 98 66\n",
    "88 36 68 87 57 62 20 72 03 46 33 67 46 55 12 32 63 93 53 69\n",
    "04 42 16 73 38 25 39 11 24 94 72 18 08 46 29 32 40 62 76 36\n",
    "20 69 36 41 72 30 23 88 34 62 99 69 82 67 59 85 74 04 36 16\n",
    "20 73 35 29 78 31 90 01 74 31 49 71 48 86 81 16 23 57 05 54\n",
    "01 70 54 71 83 51 54 69 16 92 33 48 61 43 52 01 89 19 67 48\n",
    "\n",
    "The product of these numbers is 26 × 63 × 78 × 14 = 1788696.\n",
    "\n",
    "What is the greatest product of four adjacent numbers in the same direction (up, down, left, right, or diagonally) in the 20×20 grid?\n",
    "\n",
    "'''\n",
    "\n",
    "x ='''\n",
    "08 02 22 97 38 15 00 40 00 75 04 05 07 78 52 12 50 77 91 08\n",
    "49 49 99 40 17 81 18 57 60 87 17 40 98 43 69 48 04 56 62 00\n",
    "81 49 31 73 55 79 14 29 93 71 40 67 53 88 30 03 49 13 36 65\n",
    "52 70 95 23 04 60 11 42 69 24 68 56 01 32 56 71 37 02 36 91\n",
    "22 31 16 71 51 67 63 89 41 92 36 54 22 40 40 28 66 33 13 80\n",
    "24 47 32 60 99 03 45 02 44 75 33 53 78 36 84 20 35 17 12 50\n",
    "32 98 81 28 64 23 67 10 26 38 40 67 59 54 70 66 18 38 64 70\n",
    "67 26 20 68 02 62 12 20 95 63 94 39 63 08 40 91 66 49 94 21\n",
    "24 55 58 05 66 73 99 26 97 17 78 78 96 83 14 88 34 89 63 72\n",
    "21 36 23 09 75 00 76 44 20 45 35 14 00 61 33 97 34 31 33 95\n",
    "78 17 53 28 22 75 31 67 15 94 03 80 04 62 16 14 09 53 56 92\n",
    "16 39 05 42 96 35 31 47 55 58 88 24 00 17 54 24 36 29 85 57\n",
    "86 56 00 48 35 71 89 07 05 44 44 37 44 60 21 58 51 54 17 58\n",
    "19 80 81 68 05 94 47 69 28 73 92 13 86 52 17 77 04 89 55 40\n",
    "04 52 08 83 97 35 99 16 07 97 57 32 16 26 26 79 33 27 98 66\n",
    "88 36 68 87 57 62 20 72 03 46 33 67 46 55 12 32 63 93 53 69\n",
    "04 42 16 73 38 25 39 11 24 94 72 18 08 46 29 32 40 62 76 36\n",
    "20 69 36 41 72 30 23 88 34 62 99 69 82 67 59 85 74 04 36 16\n",
    "20 73 35 29 78 31 90 01 74 31 49 71 48 86 81 16 23 57 05 54\n",
    "01 70 54 71 83 51 54 69 16 92 33 48 61 43 52 01 89 19 67 48\n",
    "'''\n",
    "\n",
    "#for this solution, I converted the data into a numpy array and used some of their built-in methods\n",
    "\n",
    "import numpy as np\n",
    "import pandas as pd\n",
    "\n",
    "#convert the 20x20 grid into \n",
    "arr = np.array(list((x.split())), dtype = int)\n",
    "arr = arr.reshape(20,20)\n",
    "\n",
    "#creates three 20x20 matrices filled with zeros to store the products in\n",
    "arr1 = np.zeros((20, 20), dtype=int)\n",
    "arr2 = np.zeros((20, 20), dtype=int)\n",
    "arr3 = np.zeros((20, 20), dtype=int)\n",
    "\n",
    "\n",
    "#assigns distinct cells in an empty matrix to the product of each column of length 4\n",
    "for i in range(0, 20):\n",
    "  arr1[:, i] = arr[:, i: i+4].prod(1)\n",
    "\n",
    "#assigns distinct cells in an empty matrix to the product of each row of length 4\n",
    "for i in range(0, 20):\n",
    "  arr2[i, :] = arr[i:i+4, :].prod(0)\n",
    "\n",
    "#assigns distinct cells in the empty matrix to the product of each diagonal of length 4\n",
    "for i in range(0, 20):\n",
    "  for j in range(0, 20):\n",
    "    arr3[i,j] = arr[i: i+4, j: j+4].diagonal().prod()\n",
    "\n",
    "#take the max of all products\n",
    "max(arr1.max(), arr2.max(), arr3.max())\n"
   ]
  },
  {
   "cell_type": "code",
   "execution_count": 38,
   "id": "8d2f8157",
   "metadata": {},
   "outputs": [
    {
     "name": "stdout",
     "output_type": "stream",
     "text": [
      "16\n",
      "5000703\n"
     ]
    }
   ],
   "source": [
    "#Problem 12\n",
    "\n",
    "'''\n",
    "The sequence of triangle numbers is generated by adding the natural numbers. So the 7th triangle number would be 1 + 2 + 3 + 4 + 5 + 6 + 7 = 28. The first ten terms would be:\n",
    "\n",
    "1, 3, 6, 10, 15, 21, 28, 36, 45, 55, ...\n",
    "\n",
    "Let us list the factors of the first seven triangle numbers:\n",
    "\n",
    " 1: 1\n",
    " 3: 1,3\n",
    " 6: 1,2,3,6\n",
    "10: 1,2,5,10\n",
    "15: 1,3,5,15\n",
    "21: 1,3,7,21\n",
    "28: 1,2,4,7,14,28\n",
    "We can see that 28 is the first triangle number to have over five divisors.\n",
    "\n",
    "What is the value of the first triangle number to have over five hundred divisors?\n",
    "'''\n",
    "triangleNum = 1\n",
    "i = 1\n",
    "factors = set()\n",
    "\n",
    "#500,000 has 96 / 3,000,000 has 36\n",
    "while triangleNum < 5000000:\n",
    "    i += 1\n",
    "    triangleNum += i \n",
    "\n",
    "for x in range(1, triangleNum + 1):\n",
    "    if triangleNum % x == 0:\n",
    "        factors.add(x)\n",
    "\n",
    "\n",
    "#\n",
    "#while numFactors <= 500:\n",
    " #   listNum += 1\n",
    "  #  triangleNum = triangleNum + listNum\n",
    "    # factors = set()\n",
    "    # for x in range(triangleNum + 1):\n",
    "    #     if triangleNum % x == 0:  \n",
    "    #         factors.add(x)\n",
    "    #     numFactors = len(factors)\n",
    "#\n",
    "print(len(factors))\n",
    "print(triangleNum)\n",
    "\n",
    "\n",
    "\n",
    "    "
   ]
  },
  {
   "cell_type": "code",
   "execution_count": 1,
   "id": "db200e00",
   "metadata": {},
   "outputs": [],
   "source": [
    "from functools import reduce\n",
    "\n",
    "def factors(n):\n",
    "        #\n",
    "        if n%2 == 0:\n",
    "                step = 2\n",
    "        else:\n",
    "                step = 1\n",
    "        \n",
    "        #returns a set of all the factors by combining all the lists of all pairs of factors. \n",
    "        #First, each prime less than the square root is found, then it is paired with its corresponding factor larger than the \n",
    "        #For any given number, each pair of factors consists of one factor less than its sqrt and one factor greater than its sqrt\n",
    "        return set(reduce(list.__add__,\n",
    "                    ([i, n//i] for i in range(1, int(n**(1/2))+1, step) if n % i == 0)))"
   ]
  },
  {
   "cell_type": "code",
   "execution_count": 8,
   "id": "f54f7ddd",
   "metadata": {},
   "outputs": [],
   "source": [
    "def divisors(n):\n",
    "    factor_list = list(factors(n))\n",
    "    nfactors = len(factor_list)\n",
    "    f = [0] * nfactors\n",
    "    while True:\n",
    "        yield reduce(lambda x, y: x*y, [factor_list[x][0]**f[x] for x in range(nfactors)], 1)\n",
    "        i = 0\n",
    "        while True:\n",
    "            f[i] += 1\n",
    "            if f[i] <= factor_list[i][1]:\n",
    "                break\n",
    "            f[i] = 0\n",
    "            i += 1\n",
    "            if i >= nfactors:\n",
    "                return\n",
    "\n",
    "\n"
   ]
  },
  {
   "cell_type": "code",
   "execution_count": 9,
   "id": "66637253",
   "metadata": {},
   "outputs": [
    {
     "ename": "TypeError",
     "evalue": "'int' object is not subscriptable",
     "output_type": "error",
     "traceback": [
      "\u001b[0;31m---------------------------------------------------------------------------\u001b[0m",
      "\u001b[0;31mTypeError\u001b[0m                                 Traceback (most recent call last)",
      "\u001b[1;32m/Users/gusso/Desktop/Python/ProjectEuler/projectEuler7-12.ipynb Cell 9\u001b[0m in \u001b[0;36m<cell line: 1>\u001b[0;34m()\u001b[0m\n\u001b[0;32m----> <a href='vscode-notebook-cell:/Users/gusso/Desktop/Python/ProjectEuler/projectEuler7-12.ipynb#X11sZmlsZQ%3D%3D?line=0'>1</a>\u001b[0m \u001b[39mprint\u001b[39m([i \u001b[39mfor\u001b[39;00m i \u001b[39min\u001b[39;00m divisors(\u001b[39m500\u001b[39m)])\n",
      "\u001b[1;32m/Users/gusso/Desktop/Python/ProjectEuler/projectEuler7-12.ipynb Cell 9\u001b[0m in \u001b[0;36m<listcomp>\u001b[0;34m(.0)\u001b[0m\n\u001b[0;32m----> <a href='vscode-notebook-cell:/Users/gusso/Desktop/Python/ProjectEuler/projectEuler7-12.ipynb#X11sZmlsZQ%3D%3D?line=0'>1</a>\u001b[0m \u001b[39mprint\u001b[39m([i \u001b[39mfor\u001b[39;00m i \u001b[39min\u001b[39;00m divisors(\u001b[39m500\u001b[39m)])\n",
      "\u001b[1;32m/Users/gusso/Desktop/Python/ProjectEuler/projectEuler7-12.ipynb Cell 9\u001b[0m in \u001b[0;36mdivisors\u001b[0;34m(n)\u001b[0m\n\u001b[1;32m      <a href='vscode-notebook-cell:/Users/gusso/Desktop/Python/ProjectEuler/projectEuler7-12.ipynb#X11sZmlsZQ%3D%3D?line=3'>4</a>\u001b[0m f \u001b[39m=\u001b[39m [\u001b[39m0\u001b[39m] \u001b[39m*\u001b[39m nfactors\n\u001b[1;32m      <a href='vscode-notebook-cell:/Users/gusso/Desktop/Python/ProjectEuler/projectEuler7-12.ipynb#X11sZmlsZQ%3D%3D?line=4'>5</a>\u001b[0m \u001b[39mwhile\u001b[39;00m \u001b[39mTrue\u001b[39;00m:\n\u001b[0;32m----> <a href='vscode-notebook-cell:/Users/gusso/Desktop/Python/ProjectEuler/projectEuler7-12.ipynb#X11sZmlsZQ%3D%3D?line=5'>6</a>\u001b[0m     \u001b[39myield\u001b[39;00m reduce(\u001b[39mlambda\u001b[39;00m x, y: x\u001b[39m*\u001b[39my, [factor_list[x][\u001b[39m0\u001b[39m]\u001b[39m*\u001b[39m\u001b[39m*\u001b[39mf[x] \u001b[39mfor\u001b[39;00m x \u001b[39min\u001b[39;00m \u001b[39mrange\u001b[39m(nfactors)], \u001b[39m1\u001b[39m)\n\u001b[1;32m      <a href='vscode-notebook-cell:/Users/gusso/Desktop/Python/ProjectEuler/projectEuler7-12.ipynb#X11sZmlsZQ%3D%3D?line=6'>7</a>\u001b[0m     i \u001b[39m=\u001b[39m \u001b[39m0\u001b[39m\n\u001b[1;32m      <a href='vscode-notebook-cell:/Users/gusso/Desktop/Python/ProjectEuler/projectEuler7-12.ipynb#X11sZmlsZQ%3D%3D?line=7'>8</a>\u001b[0m     \u001b[39mwhile\u001b[39;00m \u001b[39mTrue\u001b[39;00m:\n",
      "\u001b[1;32m/Users/gusso/Desktop/Python/ProjectEuler/projectEuler7-12.ipynb Cell 9\u001b[0m in \u001b[0;36m<listcomp>\u001b[0;34m(.0)\u001b[0m\n\u001b[1;32m      <a href='vscode-notebook-cell:/Users/gusso/Desktop/Python/ProjectEuler/projectEuler7-12.ipynb#X11sZmlsZQ%3D%3D?line=3'>4</a>\u001b[0m f \u001b[39m=\u001b[39m [\u001b[39m0\u001b[39m] \u001b[39m*\u001b[39m nfactors\n\u001b[1;32m      <a href='vscode-notebook-cell:/Users/gusso/Desktop/Python/ProjectEuler/projectEuler7-12.ipynb#X11sZmlsZQ%3D%3D?line=4'>5</a>\u001b[0m \u001b[39mwhile\u001b[39;00m \u001b[39mTrue\u001b[39;00m:\n\u001b[0;32m----> <a href='vscode-notebook-cell:/Users/gusso/Desktop/Python/ProjectEuler/projectEuler7-12.ipynb#X11sZmlsZQ%3D%3D?line=5'>6</a>\u001b[0m     \u001b[39myield\u001b[39;00m reduce(\u001b[39mlambda\u001b[39;00m x, y: x\u001b[39m*\u001b[39my, [factor_list[x][\u001b[39m0\u001b[39;49m]\u001b[39m*\u001b[39m\u001b[39m*\u001b[39mf[x] \u001b[39mfor\u001b[39;00m x \u001b[39min\u001b[39;00m \u001b[39mrange\u001b[39m(nfactors)], \u001b[39m1\u001b[39m)\n\u001b[1;32m      <a href='vscode-notebook-cell:/Users/gusso/Desktop/Python/ProjectEuler/projectEuler7-12.ipynb#X11sZmlsZQ%3D%3D?line=6'>7</a>\u001b[0m     i \u001b[39m=\u001b[39m \u001b[39m0\u001b[39m\n\u001b[1;32m      <a href='vscode-notebook-cell:/Users/gusso/Desktop/Python/ProjectEuler/projectEuler7-12.ipynb#X11sZmlsZQ%3D%3D?line=7'>8</a>\u001b[0m     \u001b[39mwhile\u001b[39;00m \u001b[39mTrue\u001b[39;00m:\n",
      "\u001b[0;31mTypeError\u001b[0m: 'int' object is not subscriptable"
     ]
    }
   ],
   "source": [
    "print([i for i in divisors(500)])"
   ]
  }
 ],
 "metadata": {
  "kernelspec": {
   "display_name": "base",
   "language": "python",
   "name": "python3"
  },
  "language_info": {
   "codemirror_mode": {
    "name": "ipython",
    "version": 3
   },
   "file_extension": ".py",
   "mimetype": "text/x-python",
   "name": "python",
   "nbconvert_exporter": "python",
   "pygments_lexer": "ipython3",
   "version": "3.9.12"
  },
  "vscode": {
   "interpreter": {
    "hash": "6886be7f77d4e0d61d72320d1914195249c2803527a2a1dafce87f0040aed941"
   }
  }
 },
 "nbformat": 4,
 "nbformat_minor": 5
}
